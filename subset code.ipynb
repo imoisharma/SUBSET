{
 "cells": [
  {
   "cell_type": "code",
   "execution_count": 1,
   "metadata": {},
   "outputs": [],
   "source": [
    "# SUBSETS IN R"
   ]
  },
  {
   "cell_type": "code",
   "execution_count": 2,
   "metadata": {},
   "outputs": [],
   "source": [
    "data=read.csv(file.choose(), header = T)"
   ]
  },
  {
   "cell_type": "code",
   "execution_count": 3,
   "metadata": {},
   "outputs": [
    {
     "data": {
      "text/html": [
       "<table>\n",
       "<thead><tr><th scope=col>Date</th><th scope=col>Open</th><th scope=col>High</th><th scope=col>Low</th><th scope=col>Close</th><th scope=col>Shares.Traded</th><th scope=col>Turnover..Rs..Cr.</th></tr></thead>\n",
       "<tbody>\n",
       "\t<tr><td>01-Sep-15</td><td>8052.60  </td><td>8084.10  </td><td>7898.10  </td><td>7938.95  </td><td>278730291</td><td>11868.86 </td></tr>\n",
       "\t<tr><td>02-Sep-15</td><td>8009.40  </td><td>8009.90  </td><td>7854.45  </td><td>7869.40  </td><td>307621348</td><td>13028.24 </td></tr>\n",
       "\t<tr><td>03-Sep-15</td><td>7927.65  </td><td>7999.35  </td><td>7910.50  </td><td>7973.40  </td><td>238737332</td><td> 9969.53 </td></tr>\n",
       "\t<tr><td>04-Sep-15</td><td>7956.30  </td><td>7956.30  </td><td>7773.15  </td><td>7804.70  </td><td>275483155</td><td>11111.48 </td></tr>\n",
       "\t<tr><td>07-Sep-15</td><td>7834.90  </td><td>7853.10  </td><td>7681.20  </td><td>7692.10  </td><td>205735445</td><td> 7998.05 </td></tr>\n",
       "\t<tr><td>08-Sep-15</td><td>7719.95  </td><td>7843.85  </td><td>7657.60  </td><td>7806.95  </td><td>258081328</td><td>10296.15 </td></tr>\n",
       "\t<tr><td>09-Sep-15</td><td>7925.30  </td><td>7972.20  </td><td>7889.05  </td><td>7943.40  </td><td>312940758</td><td>11454.77 </td></tr>\n",
       "\t<tr><td>10-Sep-15</td><td>7852.15  </td><td>7954.30  </td><td>7798.85  </td><td>7924.10  </td><td>255775295</td><td> 9821.22 </td></tr>\n",
       "\t<tr><td>11-Sep-15</td><td>7972.50  </td><td>8000.20  </td><td>7896.95  </td><td>7925.30  </td><td>204461387</td><td> 8189.41 </td></tr>\n",
       "\t<tr><td>14-Sep-15</td><td>7952.45  </td><td>8022.30  </td><td>7907.20  </td><td>8016.25  </td><td>185083198</td><td> 7307.48 </td></tr>\n",
       "\t<tr><td>15-Sep-15</td><td>8014.15  </td><td>8027.25  </td><td>7940.75  </td><td>7968.05  </td><td>200771453</td><td> 8448.19 </td></tr>\n",
       "\t<tr><td>16-Sep-15</td><td>8026.45  </td><td>8036.05  </td><td>7979.80  </td><td>8017.45  </td><td>204384387</td><td> 9224.89 </td></tr>\n",
       "\t<tr><td>18-Sep-15</td><td>8089.00  </td><td>8173.05  </td><td>8079.65  </td><td>8098.30  </td><td>352489158</td><td>15232.27 </td></tr>\n",
       "\t<tr><td>21-Sep-15</td><td>8030.40  </td><td>8108.15  </td><td>8028.05  </td><td>8096.00  </td><td>194795739</td><td> 7840.24 </td></tr>\n",
       "\t<tr><td>22-Sep-15</td><td>8135.80  </td><td>8141.60  </td><td>7914.20  </td><td>7937.55  </td><td>262790456</td><td>11183.80 </td></tr>\n",
       "\t<tr><td>23-Sep-15</td><td>7859.05  </td><td>7998.95  </td><td>7843.30  </td><td>7963.55  </td><td>242047712</td><td>10170.01 </td></tr>\n",
       "\t<tr><td>24-Sep-15</td><td>7959.35  </td><td>8010.10  </td><td>7924.75  </td><td>7982.95  </td><td>313110920</td><td>13523.85 </td></tr>\n",
       "\t<tr><td>28-Sep-15</td><td>8009.55  </td><td>8009.55  </td><td>7904.25  </td><td>7910.85  </td><td>198823974</td><td> 9116.29 </td></tr>\n",
       "\t<tr><td>29-Sep-15</td><td>7839.25  </td><td>8028.20  </td><td>7802.75  </td><td>7953.25  </td><td>341144240</td><td>14350.41 </td></tr>\n",
       "\t<tr><td>30-Sep-15</td><td>8032.75  </td><td>8076.85  </td><td>7987.55  </td><td>8068.00  </td><td>315893890</td><td>13370.79 </td></tr>\n",
       "\t<tr><td>01-Oct-15</td><td>8115.10  </td><td>8128.00  </td><td>8059.15  </td><td>8079.25  </td><td>252296836</td><td>11554.12 </td></tr>\n",
       "</tbody>\n",
       "</table>\n"
      ],
      "text/latex": [
       "\\begin{tabular}{r|lllllll}\n",
       " Date & Open & High & Low & Close & Shares.Traded & Turnover..Rs..Cr.\\\\\n",
       "\\hline\n",
       "\t 01-Sep-15 & 8052.60   & 8084.10   & 7898.10   & 7938.95   & 278730291 & 11868.86 \\\\\n",
       "\t 02-Sep-15 & 8009.40   & 8009.90   & 7854.45   & 7869.40   & 307621348 & 13028.24 \\\\\n",
       "\t 03-Sep-15 & 7927.65   & 7999.35   & 7910.50   & 7973.40   & 238737332 &  9969.53 \\\\\n",
       "\t 04-Sep-15 & 7956.30   & 7956.30   & 7773.15   & 7804.70   & 275483155 & 11111.48 \\\\\n",
       "\t 07-Sep-15 & 7834.90   & 7853.10   & 7681.20   & 7692.10   & 205735445 &  7998.05 \\\\\n",
       "\t 08-Sep-15 & 7719.95   & 7843.85   & 7657.60   & 7806.95   & 258081328 & 10296.15 \\\\\n",
       "\t 09-Sep-15 & 7925.30   & 7972.20   & 7889.05   & 7943.40   & 312940758 & 11454.77 \\\\\n",
       "\t 10-Sep-15 & 7852.15   & 7954.30   & 7798.85   & 7924.10   & 255775295 &  9821.22 \\\\\n",
       "\t 11-Sep-15 & 7972.50   & 8000.20   & 7896.95   & 7925.30   & 204461387 &  8189.41 \\\\\n",
       "\t 14-Sep-15 & 7952.45   & 8022.30   & 7907.20   & 8016.25   & 185083198 &  7307.48 \\\\\n",
       "\t 15-Sep-15 & 8014.15   & 8027.25   & 7940.75   & 7968.05   & 200771453 &  8448.19 \\\\\n",
       "\t 16-Sep-15 & 8026.45   & 8036.05   & 7979.80   & 8017.45   & 204384387 &  9224.89 \\\\\n",
       "\t 18-Sep-15 & 8089.00   & 8173.05   & 8079.65   & 8098.30   & 352489158 & 15232.27 \\\\\n",
       "\t 21-Sep-15 & 8030.40   & 8108.15   & 8028.05   & 8096.00   & 194795739 &  7840.24 \\\\\n",
       "\t 22-Sep-15 & 8135.80   & 8141.60   & 7914.20   & 7937.55   & 262790456 & 11183.80 \\\\\n",
       "\t 23-Sep-15 & 7859.05   & 7998.95   & 7843.30   & 7963.55   & 242047712 & 10170.01 \\\\\n",
       "\t 24-Sep-15 & 7959.35   & 8010.10   & 7924.75   & 7982.95   & 313110920 & 13523.85 \\\\\n",
       "\t 28-Sep-15 & 8009.55   & 8009.55   & 7904.25   & 7910.85   & 198823974 &  9116.29 \\\\\n",
       "\t 29-Sep-15 & 7839.25   & 8028.20   & 7802.75   & 7953.25   & 341144240 & 14350.41 \\\\\n",
       "\t 30-Sep-15 & 8032.75   & 8076.85   & 7987.55   & 8068.00   & 315893890 & 13370.79 \\\\\n",
       "\t 01-Oct-15 & 8115.10   & 8128.00   & 8059.15   & 8079.25   & 252296836 & 11554.12 \\\\\n",
       "\\end{tabular}\n"
      ],
      "text/markdown": [
       "\n",
       "Date | Open | High | Low | Close | Shares.Traded | Turnover..Rs..Cr. | \n",
       "|---|---|---|---|---|---|---|---|---|---|---|---|---|---|---|---|---|---|---|---|---|\n",
       "| 01-Sep-15 | 8052.60   | 8084.10   | 7898.10   | 7938.95   | 278730291 | 11868.86  | \n",
       "| 02-Sep-15 | 8009.40   | 8009.90   | 7854.45   | 7869.40   | 307621348 | 13028.24  | \n",
       "| 03-Sep-15 | 7927.65   | 7999.35   | 7910.50   | 7973.40   | 238737332 |  9969.53  | \n",
       "| 04-Sep-15 | 7956.30   | 7956.30   | 7773.15   | 7804.70   | 275483155 | 11111.48  | \n",
       "| 07-Sep-15 | 7834.90   | 7853.10   | 7681.20   | 7692.10   | 205735445 |  7998.05  | \n",
       "| 08-Sep-15 | 7719.95   | 7843.85   | 7657.60   | 7806.95   | 258081328 | 10296.15  | \n",
       "| 09-Sep-15 | 7925.30   | 7972.20   | 7889.05   | 7943.40   | 312940758 | 11454.77  | \n",
       "| 10-Sep-15 | 7852.15   | 7954.30   | 7798.85   | 7924.10   | 255775295 |  9821.22  | \n",
       "| 11-Sep-15 | 7972.50   | 8000.20   | 7896.95   | 7925.30   | 204461387 |  8189.41  | \n",
       "| 14-Sep-15 | 7952.45   | 8022.30   | 7907.20   | 8016.25   | 185083198 |  7307.48  | \n",
       "| 15-Sep-15 | 8014.15   | 8027.25   | 7940.75   | 7968.05   | 200771453 |  8448.19  | \n",
       "| 16-Sep-15 | 8026.45   | 8036.05   | 7979.80   | 8017.45   | 204384387 |  9224.89  | \n",
       "| 18-Sep-15 | 8089.00   | 8173.05   | 8079.65   | 8098.30   | 352489158 | 15232.27  | \n",
       "| 21-Sep-15 | 8030.40   | 8108.15   | 8028.05   | 8096.00   | 194795739 |  7840.24  | \n",
       "| 22-Sep-15 | 8135.80   | 8141.60   | 7914.20   | 7937.55   | 262790456 | 11183.80  | \n",
       "| 23-Sep-15 | 7859.05   | 7998.95   | 7843.30   | 7963.55   | 242047712 | 10170.01  | \n",
       "| 24-Sep-15 | 7959.35   | 8010.10   | 7924.75   | 7982.95   | 313110920 | 13523.85  | \n",
       "| 28-Sep-15 | 8009.55   | 8009.55   | 7904.25   | 7910.85   | 198823974 |  9116.29  | \n",
       "| 29-Sep-15 | 7839.25   | 8028.20   | 7802.75   | 7953.25   | 341144240 | 14350.41  | \n",
       "| 30-Sep-15 | 8032.75   | 8076.85   | 7987.55   | 8068.00   | 315893890 | 13370.79  | \n",
       "| 01-Oct-15 | 8115.10   | 8128.00   | 8059.15   | 8079.25   | 252296836 | 11554.12  | \n",
       "\n",
       "\n"
      ],
      "text/plain": [
       "   Date      Open    High    Low     Close   Shares.Traded Turnover..Rs..Cr.\n",
       "1  01-Sep-15 8052.60 8084.10 7898.10 7938.95 278730291     11868.86         \n",
       "2  02-Sep-15 8009.40 8009.90 7854.45 7869.40 307621348     13028.24         \n",
       "3  03-Sep-15 7927.65 7999.35 7910.50 7973.40 238737332      9969.53         \n",
       "4  04-Sep-15 7956.30 7956.30 7773.15 7804.70 275483155     11111.48         \n",
       "5  07-Sep-15 7834.90 7853.10 7681.20 7692.10 205735445      7998.05         \n",
       "6  08-Sep-15 7719.95 7843.85 7657.60 7806.95 258081328     10296.15         \n",
       "7  09-Sep-15 7925.30 7972.20 7889.05 7943.40 312940758     11454.77         \n",
       "8  10-Sep-15 7852.15 7954.30 7798.85 7924.10 255775295      9821.22         \n",
       "9  11-Sep-15 7972.50 8000.20 7896.95 7925.30 204461387      8189.41         \n",
       "10 14-Sep-15 7952.45 8022.30 7907.20 8016.25 185083198      7307.48         \n",
       "11 15-Sep-15 8014.15 8027.25 7940.75 7968.05 200771453      8448.19         \n",
       "12 16-Sep-15 8026.45 8036.05 7979.80 8017.45 204384387      9224.89         \n",
       "13 18-Sep-15 8089.00 8173.05 8079.65 8098.30 352489158     15232.27         \n",
       "14 21-Sep-15 8030.40 8108.15 8028.05 8096.00 194795739      7840.24         \n",
       "15 22-Sep-15 8135.80 8141.60 7914.20 7937.55 262790456     11183.80         \n",
       "16 23-Sep-15 7859.05 7998.95 7843.30 7963.55 242047712     10170.01         \n",
       "17 24-Sep-15 7959.35 8010.10 7924.75 7982.95 313110920     13523.85         \n",
       "18 28-Sep-15 8009.55 8009.55 7904.25 7910.85 198823974      9116.29         \n",
       "19 29-Sep-15 7839.25 8028.20 7802.75 7953.25 341144240     14350.41         \n",
       "20 30-Sep-15 8032.75 8076.85 7987.55 8068.00 315893890     13370.79         \n",
       "21 01-Oct-15 8115.10 8128.00 8059.15 8079.25 252296836     11554.12         "
      ]
     },
     "metadata": {},
     "output_type": "display_data"
    }
   ],
   "source": [
    "data"
   ]
  },
  {
   "cell_type": "code",
   "execution_count": 4,
   "metadata": {},
   "outputs": [],
   "source": [
    "# Create a Subset Where the turnover is greater than 10000"
   ]
  },
  {
   "cell_type": "code",
   "execution_count": 5,
   "metadata": {},
   "outputs": [],
   "source": [
    "Subset_1 = subset(data, data$Turnover..Rs..Cr. > 10000) "
   ]
  },
  {
   "cell_type": "code",
   "execution_count": 6,
   "metadata": {},
   "outputs": [
    {
     "data": {
      "text/html": [
       "<table>\n",
       "<thead><tr><th></th><th scope=col>Date</th><th scope=col>Open</th><th scope=col>High</th><th scope=col>Low</th><th scope=col>Close</th><th scope=col>Shares.Traded</th><th scope=col>Turnover..Rs..Cr.</th></tr></thead>\n",
       "<tbody>\n",
       "\t<tr><th scope=row>1</th><td>01-Sep-15</td><td>8052.60  </td><td>8084.10  </td><td>7898.10  </td><td>7938.95  </td><td>278730291</td><td>11868.86 </td></tr>\n",
       "\t<tr><th scope=row>2</th><td>02-Sep-15</td><td>8009.40  </td><td>8009.90  </td><td>7854.45  </td><td>7869.40  </td><td>307621348</td><td>13028.24 </td></tr>\n",
       "\t<tr><th scope=row>4</th><td>04-Sep-15</td><td>7956.30  </td><td>7956.30  </td><td>7773.15  </td><td>7804.70  </td><td>275483155</td><td>11111.48 </td></tr>\n",
       "\t<tr><th scope=row>6</th><td>08-Sep-15</td><td>7719.95  </td><td>7843.85  </td><td>7657.60  </td><td>7806.95  </td><td>258081328</td><td>10296.15 </td></tr>\n",
       "\t<tr><th scope=row>7</th><td>09-Sep-15</td><td>7925.30  </td><td>7972.20  </td><td>7889.05  </td><td>7943.40  </td><td>312940758</td><td>11454.77 </td></tr>\n",
       "\t<tr><th scope=row>13</th><td>18-Sep-15</td><td>8089.00  </td><td>8173.05  </td><td>8079.65  </td><td>8098.30  </td><td>352489158</td><td>15232.27 </td></tr>\n",
       "\t<tr><th scope=row>15</th><td>22-Sep-15</td><td>8135.80  </td><td>8141.60  </td><td>7914.20  </td><td>7937.55  </td><td>262790456</td><td>11183.80 </td></tr>\n",
       "\t<tr><th scope=row>16</th><td>23-Sep-15</td><td>7859.05  </td><td>7998.95  </td><td>7843.30  </td><td>7963.55  </td><td>242047712</td><td>10170.01 </td></tr>\n",
       "\t<tr><th scope=row>17</th><td>24-Sep-15</td><td>7959.35  </td><td>8010.10  </td><td>7924.75  </td><td>7982.95  </td><td>313110920</td><td>13523.85 </td></tr>\n",
       "\t<tr><th scope=row>19</th><td>29-Sep-15</td><td>7839.25  </td><td>8028.20  </td><td>7802.75  </td><td>7953.25  </td><td>341144240</td><td>14350.41 </td></tr>\n",
       "\t<tr><th scope=row>20</th><td>30-Sep-15</td><td>8032.75  </td><td>8076.85  </td><td>7987.55  </td><td>8068.00  </td><td>315893890</td><td>13370.79 </td></tr>\n",
       "\t<tr><th scope=row>21</th><td>01-Oct-15</td><td>8115.10  </td><td>8128.00  </td><td>8059.15  </td><td>8079.25  </td><td>252296836</td><td>11554.12 </td></tr>\n",
       "</tbody>\n",
       "</table>\n"
      ],
      "text/latex": [
       "\\begin{tabular}{r|lllllll}\n",
       "  & Date & Open & High & Low & Close & Shares.Traded & Turnover..Rs..Cr.\\\\\n",
       "\\hline\n",
       "\t1 & 01-Sep-15 & 8052.60   & 8084.10   & 7898.10   & 7938.95   & 278730291 & 11868.86 \\\\\n",
       "\t2 & 02-Sep-15 & 8009.40   & 8009.90   & 7854.45   & 7869.40   & 307621348 & 13028.24 \\\\\n",
       "\t4 & 04-Sep-15 & 7956.30   & 7956.30   & 7773.15   & 7804.70   & 275483155 & 11111.48 \\\\\n",
       "\t6 & 08-Sep-15 & 7719.95   & 7843.85   & 7657.60   & 7806.95   & 258081328 & 10296.15 \\\\\n",
       "\t7 & 09-Sep-15 & 7925.30   & 7972.20   & 7889.05   & 7943.40   & 312940758 & 11454.77 \\\\\n",
       "\t13 & 18-Sep-15 & 8089.00   & 8173.05   & 8079.65   & 8098.30   & 352489158 & 15232.27 \\\\\n",
       "\t15 & 22-Sep-15 & 8135.80   & 8141.60   & 7914.20   & 7937.55   & 262790456 & 11183.80 \\\\\n",
       "\t16 & 23-Sep-15 & 7859.05   & 7998.95   & 7843.30   & 7963.55   & 242047712 & 10170.01 \\\\\n",
       "\t17 & 24-Sep-15 & 7959.35   & 8010.10   & 7924.75   & 7982.95   & 313110920 & 13523.85 \\\\\n",
       "\t19 & 29-Sep-15 & 7839.25   & 8028.20   & 7802.75   & 7953.25   & 341144240 & 14350.41 \\\\\n",
       "\t20 & 30-Sep-15 & 8032.75   & 8076.85   & 7987.55   & 8068.00   & 315893890 & 13370.79 \\\\\n",
       "\t21 & 01-Oct-15 & 8115.10   & 8128.00   & 8059.15   & 8079.25   & 252296836 & 11554.12 \\\\\n",
       "\\end{tabular}\n"
      ],
      "text/markdown": [
       "\n",
       "| <!--/--> | Date | Open | High | Low | Close | Shares.Traded | Turnover..Rs..Cr. | \n",
       "|---|---|---|---|---|---|---|---|---|---|---|---|\n",
       "| 1 | 01-Sep-15 | 8052.60   | 8084.10   | 7898.10   | 7938.95   | 278730291 | 11868.86  | \n",
       "| 2 | 02-Sep-15 | 8009.40   | 8009.90   | 7854.45   | 7869.40   | 307621348 | 13028.24  | \n",
       "| 4 | 04-Sep-15 | 7956.30   | 7956.30   | 7773.15   | 7804.70   | 275483155 | 11111.48  | \n",
       "| 6 | 08-Sep-15 | 7719.95   | 7843.85   | 7657.60   | 7806.95   | 258081328 | 10296.15  | \n",
       "| 7 | 09-Sep-15 | 7925.30   | 7972.20   | 7889.05   | 7943.40   | 312940758 | 11454.77  | \n",
       "| 13 | 18-Sep-15 | 8089.00   | 8173.05   | 8079.65   | 8098.30   | 352489158 | 15232.27  | \n",
       "| 15 | 22-Sep-15 | 8135.80   | 8141.60   | 7914.20   | 7937.55   | 262790456 | 11183.80  | \n",
       "| 16 | 23-Sep-15 | 7859.05   | 7998.95   | 7843.30   | 7963.55   | 242047712 | 10170.01  | \n",
       "| 17 | 24-Sep-15 | 7959.35   | 8010.10   | 7924.75   | 7982.95   | 313110920 | 13523.85  | \n",
       "| 19 | 29-Sep-15 | 7839.25   | 8028.20   | 7802.75   | 7953.25   | 341144240 | 14350.41  | \n",
       "| 20 | 30-Sep-15 | 8032.75   | 8076.85   | 7987.55   | 8068.00   | 315893890 | 13370.79  | \n",
       "| 21 | 01-Oct-15 | 8115.10   | 8128.00   | 8059.15   | 8079.25   | 252296836 | 11554.12  | \n",
       "\n",
       "\n"
      ],
      "text/plain": [
       "   Date      Open    High    Low     Close   Shares.Traded Turnover..Rs..Cr.\n",
       "1  01-Sep-15 8052.60 8084.10 7898.10 7938.95 278730291     11868.86         \n",
       "2  02-Sep-15 8009.40 8009.90 7854.45 7869.40 307621348     13028.24         \n",
       "4  04-Sep-15 7956.30 7956.30 7773.15 7804.70 275483155     11111.48         \n",
       "6  08-Sep-15 7719.95 7843.85 7657.60 7806.95 258081328     10296.15         \n",
       "7  09-Sep-15 7925.30 7972.20 7889.05 7943.40 312940758     11454.77         \n",
       "13 18-Sep-15 8089.00 8173.05 8079.65 8098.30 352489158     15232.27         \n",
       "15 22-Sep-15 8135.80 8141.60 7914.20 7937.55 262790456     11183.80         \n",
       "16 23-Sep-15 7859.05 7998.95 7843.30 7963.55 242047712     10170.01         \n",
       "17 24-Sep-15 7959.35 8010.10 7924.75 7982.95 313110920     13523.85         \n",
       "19 29-Sep-15 7839.25 8028.20 7802.75 7953.25 341144240     14350.41         \n",
       "20 30-Sep-15 8032.75 8076.85 7987.55 8068.00 315893890     13370.79         \n",
       "21 01-Oct-15 8115.10 8128.00 8059.15 8079.25 252296836     11554.12         "
      ]
     },
     "metadata": {},
     "output_type": "display_data"
    }
   ],
   "source": [
    "Subset_1"
   ]
  },
  {
   "cell_type": "code",
   "execution_count": 7,
   "metadata": {},
   "outputs": [],
   "source": [
    "Subset_2 = subset(Subset_1, Subset_1$Shares.Traded > 300000000)"
   ]
  },
  {
   "cell_type": "code",
   "execution_count": 8,
   "metadata": {},
   "outputs": [
    {
     "data": {
      "text/html": [
       "<table>\n",
       "<thead><tr><th></th><th scope=col>Date</th><th scope=col>Open</th><th scope=col>High</th><th scope=col>Low</th><th scope=col>Close</th><th scope=col>Shares.Traded</th><th scope=col>Turnover..Rs..Cr.</th></tr></thead>\n",
       "<tbody>\n",
       "\t<tr><th scope=row>2</th><td>02-Sep-15</td><td>8009.40  </td><td>8009.90  </td><td>7854.45  </td><td>7869.40  </td><td>307621348</td><td>13028.24 </td></tr>\n",
       "\t<tr><th scope=row>7</th><td>09-Sep-15</td><td>7925.30  </td><td>7972.20  </td><td>7889.05  </td><td>7943.40  </td><td>312940758</td><td>11454.77 </td></tr>\n",
       "\t<tr><th scope=row>13</th><td>18-Sep-15</td><td>8089.00  </td><td>8173.05  </td><td>8079.65  </td><td>8098.30  </td><td>352489158</td><td>15232.27 </td></tr>\n",
       "\t<tr><th scope=row>17</th><td>24-Sep-15</td><td>7959.35  </td><td>8010.10  </td><td>7924.75  </td><td>7982.95  </td><td>313110920</td><td>13523.85 </td></tr>\n",
       "\t<tr><th scope=row>19</th><td>29-Sep-15</td><td>7839.25  </td><td>8028.20  </td><td>7802.75  </td><td>7953.25  </td><td>341144240</td><td>14350.41 </td></tr>\n",
       "\t<tr><th scope=row>20</th><td>30-Sep-15</td><td>8032.75  </td><td>8076.85  </td><td>7987.55  </td><td>8068.00  </td><td>315893890</td><td>13370.79 </td></tr>\n",
       "</tbody>\n",
       "</table>\n"
      ],
      "text/latex": [
       "\\begin{tabular}{r|lllllll}\n",
       "  & Date & Open & High & Low & Close & Shares.Traded & Turnover..Rs..Cr.\\\\\n",
       "\\hline\n",
       "\t2 & 02-Sep-15 & 8009.40   & 8009.90   & 7854.45   & 7869.40   & 307621348 & 13028.24 \\\\\n",
       "\t7 & 09-Sep-15 & 7925.30   & 7972.20   & 7889.05   & 7943.40   & 312940758 & 11454.77 \\\\\n",
       "\t13 & 18-Sep-15 & 8089.00   & 8173.05   & 8079.65   & 8098.30   & 352489158 & 15232.27 \\\\\n",
       "\t17 & 24-Sep-15 & 7959.35   & 8010.10   & 7924.75   & 7982.95   & 313110920 & 13523.85 \\\\\n",
       "\t19 & 29-Sep-15 & 7839.25   & 8028.20   & 7802.75   & 7953.25   & 341144240 & 14350.41 \\\\\n",
       "\t20 & 30-Sep-15 & 8032.75   & 8076.85   & 7987.55   & 8068.00   & 315893890 & 13370.79 \\\\\n",
       "\\end{tabular}\n"
      ],
      "text/markdown": [
       "\n",
       "| <!--/--> | Date | Open | High | Low | Close | Shares.Traded | Turnover..Rs..Cr. | \n",
       "|---|---|---|---|---|---|\n",
       "| 2 | 02-Sep-15 | 8009.40   | 8009.90   | 7854.45   | 7869.40   | 307621348 | 13028.24  | \n",
       "| 7 | 09-Sep-15 | 7925.30   | 7972.20   | 7889.05   | 7943.40   | 312940758 | 11454.77  | \n",
       "| 13 | 18-Sep-15 | 8089.00   | 8173.05   | 8079.65   | 8098.30   | 352489158 | 15232.27  | \n",
       "| 17 | 24-Sep-15 | 7959.35   | 8010.10   | 7924.75   | 7982.95   | 313110920 | 13523.85  | \n",
       "| 19 | 29-Sep-15 | 7839.25   | 8028.20   | 7802.75   | 7953.25   | 341144240 | 14350.41  | \n",
       "| 20 | 30-Sep-15 | 8032.75   | 8076.85   | 7987.55   | 8068.00   | 315893890 | 13370.79  | \n",
       "\n",
       "\n"
      ],
      "text/plain": [
       "   Date      Open    High    Low     Close   Shares.Traded Turnover..Rs..Cr.\n",
       "2  02-Sep-15 8009.40 8009.90 7854.45 7869.40 307621348     13028.24         \n",
       "7  09-Sep-15 7925.30 7972.20 7889.05 7943.40 312940758     11454.77         \n",
       "13 18-Sep-15 8089.00 8173.05 8079.65 8098.30 352489158     15232.27         \n",
       "17 24-Sep-15 7959.35 8010.10 7924.75 7982.95 313110920     13523.85         \n",
       "19 29-Sep-15 7839.25 8028.20 7802.75 7953.25 341144240     14350.41         \n",
       "20 30-Sep-15 8032.75 8076.85 7987.55 8068.00 315893890     13370.79         "
      ]
     },
     "metadata": {},
     "output_type": "display_data"
    }
   ],
   "source": [
    "Subset_2"
   ]
  },
  {
   "cell_type": "code",
   "execution_count": 9,
   "metadata": {},
   "outputs": [],
   "source": [
    "# SUBSET OPERATIONS"
   ]
  },
  {
   "cell_type": "code",
   "execution_count": 10,
   "metadata": {},
   "outputs": [],
   "source": [
    "Max_High = max(Subset_2$High) # maximum in high column"
   ]
  },
  {
   "cell_type": "code",
   "execution_count": 11,
   "metadata": {},
   "outputs": [
    {
     "data": {
      "text/html": [
       "8173.05"
      ],
      "text/latex": [
       "8173.05"
      ],
      "text/markdown": [
       "8173.05"
      ],
      "text/plain": [
       "[1] 8173.05"
      ]
     },
     "metadata": {},
     "output_type": "display_data"
    }
   ],
   "source": [
    "Max_High"
   ]
  },
  {
   "cell_type": "code",
   "execution_count": 12,
   "metadata": {},
   "outputs": [],
   "source": [
    "Min_High = min(Subset_2$High) # minimum in high column"
   ]
  },
  {
   "cell_type": "code",
   "execution_count": 13,
   "metadata": {},
   "outputs": [
    {
     "data": {
      "text/html": [
       "7972.2"
      ],
      "text/latex": [
       "7972.2"
      ],
      "text/markdown": [
       "7972.2"
      ],
      "text/plain": [
       "[1] 7972.2"
      ]
     },
     "metadata": {},
     "output_type": "display_data"
    }
   ],
   "source": [
    "Min_High"
   ]
  },
  {
   "cell_type": "code",
   "execution_count": 14,
   "metadata": {},
   "outputs": [],
   "source": [
    "Mean_High = mean(Subset_2$High) # mean of values in high column"
   ]
  },
  {
   "cell_type": "code",
   "execution_count": 15,
   "metadata": {},
   "outputs": [
    {
     "data": {
      "text/html": [
       "8045.05"
      ],
      "text/latex": [
       "8045.05"
      ],
      "text/markdown": [
       "8045.05"
      ],
      "text/plain": [
       "[1] 8045.05"
      ]
     },
     "metadata": {},
     "output_type": "display_data"
    }
   ],
   "source": [
    "Mean_High"
   ]
  },
  {
   "cell_type": "code",
   "execution_count": 16,
   "metadata": {},
   "outputs": [],
   "source": [
    "# Multiple Arguments in Subsets."
   ]
  },
  {
   "cell_type": "code",
   "execution_count": 17,
   "metadata": {},
   "outputs": [
    {
     "name": "stderr",
     "output_type": "stream",
     "text": [
      "Warning message in Subset_1$Shares.Traded > 3e+08 & data$Turnover..Rs..Cr. > 10000:\n",
      "\"longer object length is not a multiple of shorter object length\""
     ]
    }
   ],
   "source": [
    "Subset_3 = subset(Subset_1, Subset_1$Shares.Traded > 300000000 & data$Turnover..Rs..Cr. > 10000)"
   ]
  },
  {
   "cell_type": "code",
   "execution_count": 18,
   "metadata": {},
   "outputs": [
    {
     "data": {
      "text/html": [
       "<table>\n",
       "<thead><tr><th></th><th scope=col>Date</th><th scope=col>Open</th><th scope=col>High</th><th scope=col>Low</th><th scope=col>Close</th><th scope=col>Shares.Traded</th><th scope=col>Turnover..Rs..Cr.</th></tr></thead>\n",
       "<tbody>\n",
       "\t<tr><th scope=row>2</th><td>02-Sep-15</td><td>8009.4   </td><td>8009.90  </td><td>7854.45  </td><td>7869.4   </td><td>307621348</td><td>13028.24 </td></tr>\n",
       "\t<tr><th scope=row>13</th><td>18-Sep-15</td><td>8089.0   </td><td>8173.05  </td><td>8079.65  </td><td>8098.3   </td><td>352489158</td><td>15232.27 </td></tr>\n",
       "\t<tr><th scope=row>NA</th><td>NA       </td><td>    NA   </td><td>     NA  </td><td>     NA  </td><td>    NA   </td><td>       NA</td><td>      NA </td></tr>\n",
       "\t<tr><th scope=row>NA.1</th><td>NA       </td><td>    NA   </td><td>     NA  </td><td>     NA  </td><td>    NA   </td><td>       NA</td><td>      NA </td></tr>\n",
       "</tbody>\n",
       "</table>\n"
      ],
      "text/latex": [
       "\\begin{tabular}{r|lllllll}\n",
       "  & Date & Open & High & Low & Close & Shares.Traded & Turnover..Rs..Cr.\\\\\n",
       "\\hline\n",
       "\t2 & 02-Sep-15 & 8009.4    & 8009.90   & 7854.45   & 7869.4    & 307621348 & 13028.24 \\\\\n",
       "\t13 & 18-Sep-15 & 8089.0    & 8173.05   & 8079.65   & 8098.3    & 352489158 & 15232.27 \\\\\n",
       "\tNA & NA        &     NA    &      NA   &      NA   &     NA    &        NA &       NA \\\\\n",
       "\tNA.1 & NA        &     NA    &      NA   &      NA   &     NA    &        NA &       NA \\\\\n",
       "\\end{tabular}\n"
      ],
      "text/markdown": [
       "\n",
       "| <!--/--> | Date | Open | High | Low | Close | Shares.Traded | Turnover..Rs..Cr. | \n",
       "|---|---|---|---|\n",
       "| 2 | 02-Sep-15 | 8009.4    | 8009.90   | 7854.45   | 7869.4    | 307621348 | 13028.24  | \n",
       "| 13 | 18-Sep-15 | 8089.0    | 8173.05   | 8079.65   | 8098.3    | 352489158 | 15232.27  | \n",
       "| NA | NA        |     NA    |      NA   |      NA   |     NA    |        NA |       NA  | \n",
       "| NA.1 | NA        |     NA    |      NA   |      NA   |     NA    |        NA |       NA  | \n",
       "\n",
       "\n"
      ],
      "text/plain": [
       "     Date      Open   High    Low     Close  Shares.Traded Turnover..Rs..Cr.\n",
       "2    02-Sep-15 8009.4 8009.90 7854.45 7869.4 307621348     13028.24         \n",
       "13   18-Sep-15 8089.0 8173.05 8079.65 8098.3 352489158     15232.27         \n",
       "NA   NA            NA      NA      NA     NA        NA           NA         \n",
       "NA.1 NA            NA      NA      NA     NA        NA           NA         "
      ]
     },
     "metadata": {},
     "output_type": "display_data"
    }
   ],
   "source": [
    "Subset_3"
   ]
  },
  {
   "cell_type": "code",
   "execution_count": 19,
   "metadata": {},
   "outputs": [],
   "source": [
    "# Subset using keyword or value"
   ]
  },
  {
   "cell_type": "code",
   "execution_count": 20,
   "metadata": {},
   "outputs": [],
   "source": [
    "Subset_4 = subset(data, data$Low == 8079.65)"
   ]
  },
  {
   "cell_type": "code",
   "execution_count": 21,
   "metadata": {},
   "outputs": [
    {
     "data": {
      "text/html": [
       "<table>\n",
       "<thead><tr><th></th><th scope=col>Date</th><th scope=col>Open</th><th scope=col>High</th><th scope=col>Low</th><th scope=col>Close</th><th scope=col>Shares.Traded</th><th scope=col>Turnover..Rs..Cr.</th></tr></thead>\n",
       "<tbody>\n",
       "\t<tr><th scope=row>13</th><td>18-Sep-15</td><td>8089     </td><td>8173.05  </td><td>8079.65  </td><td>8098.3   </td><td>352489158</td><td>15232.27 </td></tr>\n",
       "</tbody>\n",
       "</table>\n"
      ],
      "text/latex": [
       "\\begin{tabular}{r|lllllll}\n",
       "  & Date & Open & High & Low & Close & Shares.Traded & Turnover..Rs..Cr.\\\\\n",
       "\\hline\n",
       "\t13 & 18-Sep-15 & 8089      & 8173.05   & 8079.65   & 8098.3    & 352489158 & 15232.27 \\\\\n",
       "\\end{tabular}\n"
      ],
      "text/markdown": [
       "\n",
       "| <!--/--> | Date | Open | High | Low | Close | Shares.Traded | Turnover..Rs..Cr. | \n",
       "|---|\n",
       "| 13 | 18-Sep-15 | 8089      | 8173.05   | 8079.65   | 8098.3    | 352489158 | 15232.27  | \n",
       "\n",
       "\n"
      ],
      "text/plain": [
       "   Date      Open High    Low     Close  Shares.Traded Turnover..Rs..Cr.\n",
       "13 18-Sep-15 8089 8173.05 8079.65 8098.3 352489158     15232.27         "
      ]
     },
     "metadata": {},
     "output_type": "display_data"
    }
   ],
   "source": [
    "Subset_4"
   ]
  },
  {
   "cell_type": "code",
   "execution_count": 22,
   "metadata": {},
   "outputs": [],
   "source": [
    "# Create a subset by selecting a number of Rows"
   ]
  },
  {
   "cell_type": "code",
   "execution_count": 23,
   "metadata": {},
   "outputs": [],
   "source": [
    "subset_5 = subset(data[c(5:10),])"
   ]
  },
  {
   "cell_type": "code",
   "execution_count": 24,
   "metadata": {},
   "outputs": [
    {
     "data": {
      "text/html": [
       "<table>\n",
       "<thead><tr><th></th><th scope=col>Date</th><th scope=col>Open</th><th scope=col>High</th><th scope=col>Low</th><th scope=col>Close</th><th scope=col>Shares.Traded</th><th scope=col>Turnover..Rs..Cr.</th></tr></thead>\n",
       "<tbody>\n",
       "\t<tr><th scope=row>5</th><td>07-Sep-15</td><td>7834.90  </td><td>7853.10  </td><td>7681.20  </td><td>7692.10  </td><td>205735445</td><td> 7998.05 </td></tr>\n",
       "\t<tr><th scope=row>6</th><td>08-Sep-15</td><td>7719.95  </td><td>7843.85  </td><td>7657.60  </td><td>7806.95  </td><td>258081328</td><td>10296.15 </td></tr>\n",
       "\t<tr><th scope=row>7</th><td>09-Sep-15</td><td>7925.30  </td><td>7972.20  </td><td>7889.05  </td><td>7943.40  </td><td>312940758</td><td>11454.77 </td></tr>\n",
       "\t<tr><th scope=row>8</th><td>10-Sep-15</td><td>7852.15  </td><td>7954.30  </td><td>7798.85  </td><td>7924.10  </td><td>255775295</td><td> 9821.22 </td></tr>\n",
       "\t<tr><th scope=row>9</th><td>11-Sep-15</td><td>7972.50  </td><td>8000.20  </td><td>7896.95  </td><td>7925.30  </td><td>204461387</td><td> 8189.41 </td></tr>\n",
       "\t<tr><th scope=row>10</th><td>14-Sep-15</td><td>7952.45  </td><td>8022.30  </td><td>7907.20  </td><td>8016.25  </td><td>185083198</td><td> 7307.48 </td></tr>\n",
       "</tbody>\n",
       "</table>\n"
      ],
      "text/latex": [
       "\\begin{tabular}{r|lllllll}\n",
       "  & Date & Open & High & Low & Close & Shares.Traded & Turnover..Rs..Cr.\\\\\n",
       "\\hline\n",
       "\t5 & 07-Sep-15 & 7834.90   & 7853.10   & 7681.20   & 7692.10   & 205735445 &  7998.05 \\\\\n",
       "\t6 & 08-Sep-15 & 7719.95   & 7843.85   & 7657.60   & 7806.95   & 258081328 & 10296.15 \\\\\n",
       "\t7 & 09-Sep-15 & 7925.30   & 7972.20   & 7889.05   & 7943.40   & 312940758 & 11454.77 \\\\\n",
       "\t8 & 10-Sep-15 & 7852.15   & 7954.30   & 7798.85   & 7924.10   & 255775295 &  9821.22 \\\\\n",
       "\t9 & 11-Sep-15 & 7972.50   & 8000.20   & 7896.95   & 7925.30   & 204461387 &  8189.41 \\\\\n",
       "\t10 & 14-Sep-15 & 7952.45   & 8022.30   & 7907.20   & 8016.25   & 185083198 &  7307.48 \\\\\n",
       "\\end{tabular}\n"
      ],
      "text/markdown": [
       "\n",
       "| <!--/--> | Date | Open | High | Low | Close | Shares.Traded | Turnover..Rs..Cr. | \n",
       "|---|---|---|---|---|---|\n",
       "| 5 | 07-Sep-15 | 7834.90   | 7853.10   | 7681.20   | 7692.10   | 205735445 |  7998.05  | \n",
       "| 6 | 08-Sep-15 | 7719.95   | 7843.85   | 7657.60   | 7806.95   | 258081328 | 10296.15  | \n",
       "| 7 | 09-Sep-15 | 7925.30   | 7972.20   | 7889.05   | 7943.40   | 312940758 | 11454.77  | \n",
       "| 8 | 10-Sep-15 | 7852.15   | 7954.30   | 7798.85   | 7924.10   | 255775295 |  9821.22  | \n",
       "| 9 | 11-Sep-15 | 7972.50   | 8000.20   | 7896.95   | 7925.30   | 204461387 |  8189.41  | \n",
       "| 10 | 14-Sep-15 | 7952.45   | 8022.30   | 7907.20   | 8016.25   | 185083198 |  7307.48  | \n",
       "\n",
       "\n"
      ],
      "text/plain": [
       "   Date      Open    High    Low     Close   Shares.Traded Turnover..Rs..Cr.\n",
       "5  07-Sep-15 7834.90 7853.10 7681.20 7692.10 205735445      7998.05         \n",
       "6  08-Sep-15 7719.95 7843.85 7657.60 7806.95 258081328     10296.15         \n",
       "7  09-Sep-15 7925.30 7972.20 7889.05 7943.40 312940758     11454.77         \n",
       "8  10-Sep-15 7852.15 7954.30 7798.85 7924.10 255775295      9821.22         \n",
       "9  11-Sep-15 7972.50 8000.20 7896.95 7925.30 204461387      8189.41         \n",
       "10 14-Sep-15 7952.45 8022.30 7907.20 8016.25 185083198      7307.48         "
      ]
     },
     "metadata": {},
     "output_type": "display_data"
    }
   ],
   "source": [
    "subset_5"
   ]
  },
  {
   "cell_type": "code",
   "execution_count": 25,
   "metadata": {},
   "outputs": [],
   "source": [
    "# Create a subset by deleting a number of rows"
   ]
  },
  {
   "cell_type": "code",
   "execution_count": 27,
   "metadata": {},
   "outputs": [],
   "source": [
    "subset_6 = subset(data[-c(5:10),])"
   ]
  },
  {
   "cell_type": "code",
   "execution_count": 28,
   "metadata": {},
   "outputs": [
    {
     "data": {
      "text/html": [
       "<table>\n",
       "<thead><tr><th></th><th scope=col>Date</th><th scope=col>Open</th><th scope=col>High</th><th scope=col>Low</th><th scope=col>Close</th><th scope=col>Shares.Traded</th><th scope=col>Turnover..Rs..Cr.</th></tr></thead>\n",
       "<tbody>\n",
       "\t<tr><th scope=row>1</th><td>01-Sep-15</td><td>8052.60  </td><td>8084.10  </td><td>7898.10  </td><td>7938.95  </td><td>278730291</td><td>11868.86 </td></tr>\n",
       "\t<tr><th scope=row>2</th><td>02-Sep-15</td><td>8009.40  </td><td>8009.90  </td><td>7854.45  </td><td>7869.40  </td><td>307621348</td><td>13028.24 </td></tr>\n",
       "\t<tr><th scope=row>3</th><td>03-Sep-15</td><td>7927.65  </td><td>7999.35  </td><td>7910.50  </td><td>7973.40  </td><td>238737332</td><td> 9969.53 </td></tr>\n",
       "\t<tr><th scope=row>4</th><td>04-Sep-15</td><td>7956.30  </td><td>7956.30  </td><td>7773.15  </td><td>7804.70  </td><td>275483155</td><td>11111.48 </td></tr>\n",
       "\t<tr><th scope=row>11</th><td>15-Sep-15</td><td>8014.15  </td><td>8027.25  </td><td>7940.75  </td><td>7968.05  </td><td>200771453</td><td> 8448.19 </td></tr>\n",
       "\t<tr><th scope=row>12</th><td>16-Sep-15</td><td>8026.45  </td><td>8036.05  </td><td>7979.80  </td><td>8017.45  </td><td>204384387</td><td> 9224.89 </td></tr>\n",
       "\t<tr><th scope=row>13</th><td>18-Sep-15</td><td>8089.00  </td><td>8173.05  </td><td>8079.65  </td><td>8098.30  </td><td>352489158</td><td>15232.27 </td></tr>\n",
       "\t<tr><th scope=row>14</th><td>21-Sep-15</td><td>8030.40  </td><td>8108.15  </td><td>8028.05  </td><td>8096.00  </td><td>194795739</td><td> 7840.24 </td></tr>\n",
       "\t<tr><th scope=row>15</th><td>22-Sep-15</td><td>8135.80  </td><td>8141.60  </td><td>7914.20  </td><td>7937.55  </td><td>262790456</td><td>11183.80 </td></tr>\n",
       "\t<tr><th scope=row>16</th><td>23-Sep-15</td><td>7859.05  </td><td>7998.95  </td><td>7843.30  </td><td>7963.55  </td><td>242047712</td><td>10170.01 </td></tr>\n",
       "\t<tr><th scope=row>17</th><td>24-Sep-15</td><td>7959.35  </td><td>8010.10  </td><td>7924.75  </td><td>7982.95  </td><td>313110920</td><td>13523.85 </td></tr>\n",
       "\t<tr><th scope=row>18</th><td>28-Sep-15</td><td>8009.55  </td><td>8009.55  </td><td>7904.25  </td><td>7910.85  </td><td>198823974</td><td> 9116.29 </td></tr>\n",
       "\t<tr><th scope=row>19</th><td>29-Sep-15</td><td>7839.25  </td><td>8028.20  </td><td>7802.75  </td><td>7953.25  </td><td>341144240</td><td>14350.41 </td></tr>\n",
       "\t<tr><th scope=row>20</th><td>30-Sep-15</td><td>8032.75  </td><td>8076.85  </td><td>7987.55  </td><td>8068.00  </td><td>315893890</td><td>13370.79 </td></tr>\n",
       "\t<tr><th scope=row>21</th><td>01-Oct-15</td><td>8115.10  </td><td>8128.00  </td><td>8059.15  </td><td>8079.25  </td><td>252296836</td><td>11554.12 </td></tr>\n",
       "</tbody>\n",
       "</table>\n"
      ],
      "text/latex": [
       "\\begin{tabular}{r|lllllll}\n",
       "  & Date & Open & High & Low & Close & Shares.Traded & Turnover..Rs..Cr.\\\\\n",
       "\\hline\n",
       "\t1 & 01-Sep-15 & 8052.60   & 8084.10   & 7898.10   & 7938.95   & 278730291 & 11868.86 \\\\\n",
       "\t2 & 02-Sep-15 & 8009.40   & 8009.90   & 7854.45   & 7869.40   & 307621348 & 13028.24 \\\\\n",
       "\t3 & 03-Sep-15 & 7927.65   & 7999.35   & 7910.50   & 7973.40   & 238737332 &  9969.53 \\\\\n",
       "\t4 & 04-Sep-15 & 7956.30   & 7956.30   & 7773.15   & 7804.70   & 275483155 & 11111.48 \\\\\n",
       "\t11 & 15-Sep-15 & 8014.15   & 8027.25   & 7940.75   & 7968.05   & 200771453 &  8448.19 \\\\\n",
       "\t12 & 16-Sep-15 & 8026.45   & 8036.05   & 7979.80   & 8017.45   & 204384387 &  9224.89 \\\\\n",
       "\t13 & 18-Sep-15 & 8089.00   & 8173.05   & 8079.65   & 8098.30   & 352489158 & 15232.27 \\\\\n",
       "\t14 & 21-Sep-15 & 8030.40   & 8108.15   & 8028.05   & 8096.00   & 194795739 &  7840.24 \\\\\n",
       "\t15 & 22-Sep-15 & 8135.80   & 8141.60   & 7914.20   & 7937.55   & 262790456 & 11183.80 \\\\\n",
       "\t16 & 23-Sep-15 & 7859.05   & 7998.95   & 7843.30   & 7963.55   & 242047712 & 10170.01 \\\\\n",
       "\t17 & 24-Sep-15 & 7959.35   & 8010.10   & 7924.75   & 7982.95   & 313110920 & 13523.85 \\\\\n",
       "\t18 & 28-Sep-15 & 8009.55   & 8009.55   & 7904.25   & 7910.85   & 198823974 &  9116.29 \\\\\n",
       "\t19 & 29-Sep-15 & 7839.25   & 8028.20   & 7802.75   & 7953.25   & 341144240 & 14350.41 \\\\\n",
       "\t20 & 30-Sep-15 & 8032.75   & 8076.85   & 7987.55   & 8068.00   & 315893890 & 13370.79 \\\\\n",
       "\t21 & 01-Oct-15 & 8115.10   & 8128.00   & 8059.15   & 8079.25   & 252296836 & 11554.12 \\\\\n",
       "\\end{tabular}\n"
      ],
      "text/markdown": [
       "\n",
       "| <!--/--> | Date | Open | High | Low | Close | Shares.Traded | Turnover..Rs..Cr. | \n",
       "|---|---|---|---|---|---|---|---|---|---|---|---|---|---|---|\n",
       "| 1 | 01-Sep-15 | 8052.60   | 8084.10   | 7898.10   | 7938.95   | 278730291 | 11868.86  | \n",
       "| 2 | 02-Sep-15 | 8009.40   | 8009.90   | 7854.45   | 7869.40   | 307621348 | 13028.24  | \n",
       "| 3 | 03-Sep-15 | 7927.65   | 7999.35   | 7910.50   | 7973.40   | 238737332 |  9969.53  | \n",
       "| 4 | 04-Sep-15 | 7956.30   | 7956.30   | 7773.15   | 7804.70   | 275483155 | 11111.48  | \n",
       "| 11 | 15-Sep-15 | 8014.15   | 8027.25   | 7940.75   | 7968.05   | 200771453 |  8448.19  | \n",
       "| 12 | 16-Sep-15 | 8026.45   | 8036.05   | 7979.80   | 8017.45   | 204384387 |  9224.89  | \n",
       "| 13 | 18-Sep-15 | 8089.00   | 8173.05   | 8079.65   | 8098.30   | 352489158 | 15232.27  | \n",
       "| 14 | 21-Sep-15 | 8030.40   | 8108.15   | 8028.05   | 8096.00   | 194795739 |  7840.24  | \n",
       "| 15 | 22-Sep-15 | 8135.80   | 8141.60   | 7914.20   | 7937.55   | 262790456 | 11183.80  | \n",
       "| 16 | 23-Sep-15 | 7859.05   | 7998.95   | 7843.30   | 7963.55   | 242047712 | 10170.01  | \n",
       "| 17 | 24-Sep-15 | 7959.35   | 8010.10   | 7924.75   | 7982.95   | 313110920 | 13523.85  | \n",
       "| 18 | 28-Sep-15 | 8009.55   | 8009.55   | 7904.25   | 7910.85   | 198823974 |  9116.29  | \n",
       "| 19 | 29-Sep-15 | 7839.25   | 8028.20   | 7802.75   | 7953.25   | 341144240 | 14350.41  | \n",
       "| 20 | 30-Sep-15 | 8032.75   | 8076.85   | 7987.55   | 8068.00   | 315893890 | 13370.79  | \n",
       "| 21 | 01-Oct-15 | 8115.10   | 8128.00   | 8059.15   | 8079.25   | 252296836 | 11554.12  | \n",
       "\n",
       "\n"
      ],
      "text/plain": [
       "   Date      Open    High    Low     Close   Shares.Traded Turnover..Rs..Cr.\n",
       "1  01-Sep-15 8052.60 8084.10 7898.10 7938.95 278730291     11868.86         \n",
       "2  02-Sep-15 8009.40 8009.90 7854.45 7869.40 307621348     13028.24         \n",
       "3  03-Sep-15 7927.65 7999.35 7910.50 7973.40 238737332      9969.53         \n",
       "4  04-Sep-15 7956.30 7956.30 7773.15 7804.70 275483155     11111.48         \n",
       "11 15-Sep-15 8014.15 8027.25 7940.75 7968.05 200771453      8448.19         \n",
       "12 16-Sep-15 8026.45 8036.05 7979.80 8017.45 204384387      9224.89         \n",
       "13 18-Sep-15 8089.00 8173.05 8079.65 8098.30 352489158     15232.27         \n",
       "14 21-Sep-15 8030.40 8108.15 8028.05 8096.00 194795739      7840.24         \n",
       "15 22-Sep-15 8135.80 8141.60 7914.20 7937.55 262790456     11183.80         \n",
       "16 23-Sep-15 7859.05 7998.95 7843.30 7963.55 242047712     10170.01         \n",
       "17 24-Sep-15 7959.35 8010.10 7924.75 7982.95 313110920     13523.85         \n",
       "18 28-Sep-15 8009.55 8009.55 7904.25 7910.85 198823974      9116.29         \n",
       "19 29-Sep-15 7839.25 8028.20 7802.75 7953.25 341144240     14350.41         \n",
       "20 30-Sep-15 8032.75 8076.85 7987.55 8068.00 315893890     13370.79         \n",
       "21 01-Oct-15 8115.10 8128.00 8059.15 8079.25 252296836     11554.12         "
      ]
     },
     "metadata": {},
     "output_type": "display_data"
    }
   ],
   "source": [
    "subset_6"
   ]
  },
  {
   "cell_type": "code",
   "execution_count": 29,
   "metadata": {},
   "outputs": [],
   "source": [
    "# Another Method"
   ]
  },
  {
   "cell_type": "code",
   "execution_count": 30,
   "metadata": {},
   "outputs": [],
   "source": [
    "subset_6 = subset(data[-(5:10),])"
   ]
  },
  {
   "cell_type": "code",
   "execution_count": 31,
   "metadata": {},
   "outputs": [
    {
     "data": {
      "text/html": [
       "<table>\n",
       "<thead><tr><th></th><th scope=col>Date</th><th scope=col>Open</th><th scope=col>High</th><th scope=col>Low</th><th scope=col>Close</th><th scope=col>Shares.Traded</th><th scope=col>Turnover..Rs..Cr.</th></tr></thead>\n",
       "<tbody>\n",
       "\t<tr><th scope=row>1</th><td>01-Sep-15</td><td>8052.60  </td><td>8084.10  </td><td>7898.10  </td><td>7938.95  </td><td>278730291</td><td>11868.86 </td></tr>\n",
       "\t<tr><th scope=row>2</th><td>02-Sep-15</td><td>8009.40  </td><td>8009.90  </td><td>7854.45  </td><td>7869.40  </td><td>307621348</td><td>13028.24 </td></tr>\n",
       "\t<tr><th scope=row>3</th><td>03-Sep-15</td><td>7927.65  </td><td>7999.35  </td><td>7910.50  </td><td>7973.40  </td><td>238737332</td><td> 9969.53 </td></tr>\n",
       "\t<tr><th scope=row>4</th><td>04-Sep-15</td><td>7956.30  </td><td>7956.30  </td><td>7773.15  </td><td>7804.70  </td><td>275483155</td><td>11111.48 </td></tr>\n",
       "\t<tr><th scope=row>11</th><td>15-Sep-15</td><td>8014.15  </td><td>8027.25  </td><td>7940.75  </td><td>7968.05  </td><td>200771453</td><td> 8448.19 </td></tr>\n",
       "\t<tr><th scope=row>12</th><td>16-Sep-15</td><td>8026.45  </td><td>8036.05  </td><td>7979.80  </td><td>8017.45  </td><td>204384387</td><td> 9224.89 </td></tr>\n",
       "\t<tr><th scope=row>13</th><td>18-Sep-15</td><td>8089.00  </td><td>8173.05  </td><td>8079.65  </td><td>8098.30  </td><td>352489158</td><td>15232.27 </td></tr>\n",
       "\t<tr><th scope=row>14</th><td>21-Sep-15</td><td>8030.40  </td><td>8108.15  </td><td>8028.05  </td><td>8096.00  </td><td>194795739</td><td> 7840.24 </td></tr>\n",
       "\t<tr><th scope=row>15</th><td>22-Sep-15</td><td>8135.80  </td><td>8141.60  </td><td>7914.20  </td><td>7937.55  </td><td>262790456</td><td>11183.80 </td></tr>\n",
       "\t<tr><th scope=row>16</th><td>23-Sep-15</td><td>7859.05  </td><td>7998.95  </td><td>7843.30  </td><td>7963.55  </td><td>242047712</td><td>10170.01 </td></tr>\n",
       "\t<tr><th scope=row>17</th><td>24-Sep-15</td><td>7959.35  </td><td>8010.10  </td><td>7924.75  </td><td>7982.95  </td><td>313110920</td><td>13523.85 </td></tr>\n",
       "\t<tr><th scope=row>18</th><td>28-Sep-15</td><td>8009.55  </td><td>8009.55  </td><td>7904.25  </td><td>7910.85  </td><td>198823974</td><td> 9116.29 </td></tr>\n",
       "\t<tr><th scope=row>19</th><td>29-Sep-15</td><td>7839.25  </td><td>8028.20  </td><td>7802.75  </td><td>7953.25  </td><td>341144240</td><td>14350.41 </td></tr>\n",
       "\t<tr><th scope=row>20</th><td>30-Sep-15</td><td>8032.75  </td><td>8076.85  </td><td>7987.55  </td><td>8068.00  </td><td>315893890</td><td>13370.79 </td></tr>\n",
       "\t<tr><th scope=row>21</th><td>01-Oct-15</td><td>8115.10  </td><td>8128.00  </td><td>8059.15  </td><td>8079.25  </td><td>252296836</td><td>11554.12 </td></tr>\n",
       "</tbody>\n",
       "</table>\n"
      ],
      "text/latex": [
       "\\begin{tabular}{r|lllllll}\n",
       "  & Date & Open & High & Low & Close & Shares.Traded & Turnover..Rs..Cr.\\\\\n",
       "\\hline\n",
       "\t1 & 01-Sep-15 & 8052.60   & 8084.10   & 7898.10   & 7938.95   & 278730291 & 11868.86 \\\\\n",
       "\t2 & 02-Sep-15 & 8009.40   & 8009.90   & 7854.45   & 7869.40   & 307621348 & 13028.24 \\\\\n",
       "\t3 & 03-Sep-15 & 7927.65   & 7999.35   & 7910.50   & 7973.40   & 238737332 &  9969.53 \\\\\n",
       "\t4 & 04-Sep-15 & 7956.30   & 7956.30   & 7773.15   & 7804.70   & 275483155 & 11111.48 \\\\\n",
       "\t11 & 15-Sep-15 & 8014.15   & 8027.25   & 7940.75   & 7968.05   & 200771453 &  8448.19 \\\\\n",
       "\t12 & 16-Sep-15 & 8026.45   & 8036.05   & 7979.80   & 8017.45   & 204384387 &  9224.89 \\\\\n",
       "\t13 & 18-Sep-15 & 8089.00   & 8173.05   & 8079.65   & 8098.30   & 352489158 & 15232.27 \\\\\n",
       "\t14 & 21-Sep-15 & 8030.40   & 8108.15   & 8028.05   & 8096.00   & 194795739 &  7840.24 \\\\\n",
       "\t15 & 22-Sep-15 & 8135.80   & 8141.60   & 7914.20   & 7937.55   & 262790456 & 11183.80 \\\\\n",
       "\t16 & 23-Sep-15 & 7859.05   & 7998.95   & 7843.30   & 7963.55   & 242047712 & 10170.01 \\\\\n",
       "\t17 & 24-Sep-15 & 7959.35   & 8010.10   & 7924.75   & 7982.95   & 313110920 & 13523.85 \\\\\n",
       "\t18 & 28-Sep-15 & 8009.55   & 8009.55   & 7904.25   & 7910.85   & 198823974 &  9116.29 \\\\\n",
       "\t19 & 29-Sep-15 & 7839.25   & 8028.20   & 7802.75   & 7953.25   & 341144240 & 14350.41 \\\\\n",
       "\t20 & 30-Sep-15 & 8032.75   & 8076.85   & 7987.55   & 8068.00   & 315893890 & 13370.79 \\\\\n",
       "\t21 & 01-Oct-15 & 8115.10   & 8128.00   & 8059.15   & 8079.25   & 252296836 & 11554.12 \\\\\n",
       "\\end{tabular}\n"
      ],
      "text/markdown": [
       "\n",
       "| <!--/--> | Date | Open | High | Low | Close | Shares.Traded | Turnover..Rs..Cr. | \n",
       "|---|---|---|---|---|---|---|---|---|---|---|---|---|---|---|\n",
       "| 1 | 01-Sep-15 | 8052.60   | 8084.10   | 7898.10   | 7938.95   | 278730291 | 11868.86  | \n",
       "| 2 | 02-Sep-15 | 8009.40   | 8009.90   | 7854.45   | 7869.40   | 307621348 | 13028.24  | \n",
       "| 3 | 03-Sep-15 | 7927.65   | 7999.35   | 7910.50   | 7973.40   | 238737332 |  9969.53  | \n",
       "| 4 | 04-Sep-15 | 7956.30   | 7956.30   | 7773.15   | 7804.70   | 275483155 | 11111.48  | \n",
       "| 11 | 15-Sep-15 | 8014.15   | 8027.25   | 7940.75   | 7968.05   | 200771453 |  8448.19  | \n",
       "| 12 | 16-Sep-15 | 8026.45   | 8036.05   | 7979.80   | 8017.45   | 204384387 |  9224.89  | \n",
       "| 13 | 18-Sep-15 | 8089.00   | 8173.05   | 8079.65   | 8098.30   | 352489158 | 15232.27  | \n",
       "| 14 | 21-Sep-15 | 8030.40   | 8108.15   | 8028.05   | 8096.00   | 194795739 |  7840.24  | \n",
       "| 15 | 22-Sep-15 | 8135.80   | 8141.60   | 7914.20   | 7937.55   | 262790456 | 11183.80  | \n",
       "| 16 | 23-Sep-15 | 7859.05   | 7998.95   | 7843.30   | 7963.55   | 242047712 | 10170.01  | \n",
       "| 17 | 24-Sep-15 | 7959.35   | 8010.10   | 7924.75   | 7982.95   | 313110920 | 13523.85  | \n",
       "| 18 | 28-Sep-15 | 8009.55   | 8009.55   | 7904.25   | 7910.85   | 198823974 |  9116.29  | \n",
       "| 19 | 29-Sep-15 | 7839.25   | 8028.20   | 7802.75   | 7953.25   | 341144240 | 14350.41  | \n",
       "| 20 | 30-Sep-15 | 8032.75   | 8076.85   | 7987.55   | 8068.00   | 315893890 | 13370.79  | \n",
       "| 21 | 01-Oct-15 | 8115.10   | 8128.00   | 8059.15   | 8079.25   | 252296836 | 11554.12  | \n",
       "\n",
       "\n"
      ],
      "text/plain": [
       "   Date      Open    High    Low     Close   Shares.Traded Turnover..Rs..Cr.\n",
       "1  01-Sep-15 8052.60 8084.10 7898.10 7938.95 278730291     11868.86         \n",
       "2  02-Sep-15 8009.40 8009.90 7854.45 7869.40 307621348     13028.24         \n",
       "3  03-Sep-15 7927.65 7999.35 7910.50 7973.40 238737332      9969.53         \n",
       "4  04-Sep-15 7956.30 7956.30 7773.15 7804.70 275483155     11111.48         \n",
       "11 15-Sep-15 8014.15 8027.25 7940.75 7968.05 200771453      8448.19         \n",
       "12 16-Sep-15 8026.45 8036.05 7979.80 8017.45 204384387      9224.89         \n",
       "13 18-Sep-15 8089.00 8173.05 8079.65 8098.30 352489158     15232.27         \n",
       "14 21-Sep-15 8030.40 8108.15 8028.05 8096.00 194795739      7840.24         \n",
       "15 22-Sep-15 8135.80 8141.60 7914.20 7937.55 262790456     11183.80         \n",
       "16 23-Sep-15 7859.05 7998.95 7843.30 7963.55 242047712     10170.01         \n",
       "17 24-Sep-15 7959.35 8010.10 7924.75 7982.95 313110920     13523.85         \n",
       "18 28-Sep-15 8009.55 8009.55 7904.25 7910.85 198823974      9116.29         \n",
       "19 29-Sep-15 7839.25 8028.20 7802.75 7953.25 341144240     14350.41         \n",
       "20 30-Sep-15 8032.75 8076.85 7987.55 8068.00 315893890     13370.79         \n",
       "21 01-Oct-15 8115.10 8128.00 8059.15 8079.25 252296836     11554.12         "
      ]
     },
     "metadata": {},
     "output_type": "display_data"
    }
   ],
   "source": [
    "subset_6"
   ]
  },
  {
   "cell_type": "code",
   "execution_count": null,
   "metadata": {},
   "outputs": [],
   "source": []
  }
 ],
 "metadata": {
  "kernelspec": {
   "display_name": "R",
   "language": "R",
   "name": "ir"
  },
  "language_info": {
   "codemirror_mode": "r",
   "file_extension": ".r",
   "mimetype": "text/x-r-source",
   "name": "R",
   "pygments_lexer": "r",
   "version": "3.5.1"
  }
 },
 "nbformat": 4,
 "nbformat_minor": 2
}
